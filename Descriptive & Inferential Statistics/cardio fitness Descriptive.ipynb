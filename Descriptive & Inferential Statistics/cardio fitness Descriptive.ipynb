{
 "cells": [
  {
   "cell_type": "markdown",
   "id": "2f4ff16a",
   "metadata": {},
   "source": [
    "Hello! This is a Kaggle case study completed in Feb 2022 (https://www.kaggle.com/datasets/saurav9786/cardiogoodfitness/)\n",
    "\n",
    "The objective of this project is to explore a dataset containing customer information for treadmill products for a retail store called Cardio Good Fitness.\n",
    "\n",
    "We want to identify differences between the customers of each product, as well as any relationships between the different attributes of the customers. Additionally, we want to look out for any other line of questioning that could be relevant for the business."
   ]
  },
  {
   "cell_type": "markdown",
   "id": "3749c698",
   "metadata": {},
   "source": [
    "## Data Description\n",
    "The market research team at AdRight is assigned the task to identify the profile of the typical customer for each treadmill product offered by CardioGood Fitness. The market research team decides to investigate whether there are differences across the product lines with respect to customer characteristics. The team decides to collect data on individuals who purchased a treadmill at a CardioGoodFitness retail store during the prior three months. The data are stored in the CardioGoodFitness.csv file. The team identifies the following customer variables to study:\n",
    "\n",
    "product purchased, TM195, TM498, or TM798; \n",
    "\n",
    "gender;\n",
    "\n",
    "age, in years;\n",
    "\n",
    "education, in years;\n",
    "\n",
    "relationship status, single or partnered; \n",
    "\n",
    "annual household income ($);\n",
    "\n",
    "average number of times the customer plans to use the treadmill each week;\n",
    "\n",
    "average number of miles the customer expects to walk/run each week;\n",
    "\n",
    "self-rated fitness on an 1-to-5 scale, where 1 is poor shape and 5 is excellent shape. \n",
    "\n",
    "Perform descriptive analytics to create a customer profile for each CardioGood Fitness treadmill product line."
   ]
  },
  {
   "cell_type": "markdown",
   "id": "2ece4856",
   "metadata": {},
   "source": [
    "### Importing Dependencies"
   ]
  },
  {
   "cell_type": "code",
   "execution_count": 2,
   "id": "57a8bbd9",
   "metadata": {},
   "outputs": [],
   "source": [
    "import pandas as pd\n",
    "import numpy as np\n",
    "import matplotlib.pyplot as plt\n",
    "import seaborn as sns"
   ]
  },
  {
   "cell_type": "markdown",
   "id": "19a756ce",
   "metadata": {},
   "source": [
    "### Importing Dataset"
   ]
  },
  {
   "cell_type": "code",
   "execution_count": 3,
   "id": "3a3720c8",
   "metadata": {},
   "outputs": [
    {
     "data": {
      "text/html": [
       "<div>\n",
       "<style scoped>\n",
       "    .dataframe tbody tr th:only-of-type {\n",
       "        vertical-align: middle;\n",
       "    }\n",
       "\n",
       "    .dataframe tbody tr th {\n",
       "        vertical-align: top;\n",
       "    }\n",
       "\n",
       "    .dataframe thead th {\n",
       "        text-align: right;\n",
       "    }\n",
       "</style>\n",
       "<table border=\"1\" class=\"dataframe\">\n",
       "  <thead>\n",
       "    <tr style=\"text-align: right;\">\n",
       "      <th></th>\n",
       "      <th>Product</th>\n",
       "      <th>Age</th>\n",
       "      <th>Gender</th>\n",
       "      <th>Education</th>\n",
       "      <th>MaritalStatus</th>\n",
       "      <th>Usage</th>\n",
       "      <th>Fitness</th>\n",
       "      <th>Income</th>\n",
       "      <th>Miles</th>\n",
       "    </tr>\n",
       "  </thead>\n",
       "  <tbody>\n",
       "    <tr>\n",
       "      <th>179</th>\n",
       "      <td>TM798</td>\n",
       "      <td>48</td>\n",
       "      <td>Male</td>\n",
       "      <td>18</td>\n",
       "      <td>Partnered</td>\n",
       "      <td>4</td>\n",
       "      <td>5</td>\n",
       "      <td>95508</td>\n",
       "      <td>180</td>\n",
       "    </tr>\n",
       "    <tr>\n",
       "      <th>93</th>\n",
       "      <td>TM498</td>\n",
       "      <td>23</td>\n",
       "      <td>Male</td>\n",
       "      <td>16</td>\n",
       "      <td>Partnered</td>\n",
       "      <td>3</td>\n",
       "      <td>3</td>\n",
       "      <td>45480</td>\n",
       "      <td>64</td>\n",
       "    </tr>\n",
       "    <tr>\n",
       "      <th>61</th>\n",
       "      <td>TM195</td>\n",
       "      <td>34</td>\n",
       "      <td>Male</td>\n",
       "      <td>16</td>\n",
       "      <td>Single</td>\n",
       "      <td>4</td>\n",
       "      <td>5</td>\n",
       "      <td>51165</td>\n",
       "      <td>169</td>\n",
       "    </tr>\n",
       "    <tr>\n",
       "      <th>87</th>\n",
       "      <td>TM498</td>\n",
       "      <td>23</td>\n",
       "      <td>Male</td>\n",
       "      <td>14</td>\n",
       "      <td>Partnered</td>\n",
       "      <td>3</td>\n",
       "      <td>3</td>\n",
       "      <td>36384</td>\n",
       "      <td>95</td>\n",
       "    </tr>\n",
       "    <tr>\n",
       "      <th>157</th>\n",
       "      <td>TM798</td>\n",
       "      <td>26</td>\n",
       "      <td>Female</td>\n",
       "      <td>21</td>\n",
       "      <td>Single</td>\n",
       "      <td>4</td>\n",
       "      <td>3</td>\n",
       "      <td>69721</td>\n",
       "      <td>100</td>\n",
       "    </tr>\n",
       "  </tbody>\n",
       "</table>\n",
       "</div>"
      ],
      "text/plain": [
       "    Product  Age  Gender  Education MaritalStatus  Usage  Fitness  Income  \\\n",
       "179   TM798   48    Male         18     Partnered      4        5   95508   \n",
       "93    TM498   23    Male         16     Partnered      3        3   45480   \n",
       "61    TM195   34    Male         16        Single      4        5   51165   \n",
       "87    TM498   23    Male         14     Partnered      3        3   36384   \n",
       "157   TM798   26  Female         21        Single      4        3   69721   \n",
       "\n",
       "     Miles  \n",
       "179    180  \n",
       "93      64  \n",
       "61     169  \n",
       "87      95  \n",
       "157    100  "
      ]
     },
     "execution_count": 3,
     "metadata": {},
     "output_type": "execute_result"
    }
   ],
   "source": [
    "df = pd.read_csv('CardioGoodFitness.csv')\n",
    "df.sample(5)"
   ]
  },
  {
   "cell_type": "markdown",
   "id": "92cd2615",
   "metadata": {},
   "source": [
    "### Genereal Information"
   ]
  },
  {
   "cell_type": "code",
   "execution_count": 4,
   "id": "4e4469fd",
   "metadata": {},
   "outputs": [
    {
     "name": "stdout",
     "output_type": "stream",
     "text": [
      "<class 'pandas.core.frame.DataFrame'>\n",
      "RangeIndex: 180 entries, 0 to 179\n",
      "Data columns (total 9 columns):\n",
      " #   Column         Non-Null Count  Dtype \n",
      "---  ------         --------------  ----- \n",
      " 0   Product        180 non-null    object\n",
      " 1   Age            180 non-null    int64 \n",
      " 2   Gender         180 non-null    object\n",
      " 3   Education      180 non-null    int64 \n",
      " 4   MaritalStatus  180 non-null    object\n",
      " 5   Usage          180 non-null    int64 \n",
      " 6   Fitness        180 non-null    int64 \n",
      " 7   Income         180 non-null    int64 \n",
      " 8   Miles          180 non-null    int64 \n",
      "dtypes: int64(6), object(3)\n",
      "memory usage: 12.8+ KB\n"
     ]
    }
   ],
   "source": [
    "df.info()"
   ]
  },
  {
   "cell_type": "markdown",
   "id": "e2e3cd13",
   "metadata": {},
   "source": [
    "### Shape and Size of Dataset"
   ]
  },
  {
   "cell_type": "code",
   "execution_count": 5,
   "id": "8e95029d",
   "metadata": {},
   "outputs": [
    {
     "data": {
      "text/plain": [
       "(180, 9)"
      ]
     },
     "execution_count": 5,
     "metadata": {},
     "output_type": "execute_result"
    }
   ],
   "source": [
    "df.shape"
   ]
  },
  {
   "cell_type": "code",
   "execution_count": 6,
   "id": "602b42ad",
   "metadata": {},
   "outputs": [
    {
     "data": {
      "text/plain": [
       "1620"
      ]
     },
     "execution_count": 6,
     "metadata": {},
     "output_type": "execute_result"
    }
   ],
   "source": [
    "df.size"
   ]
  },
  {
   "cell_type": "markdown",
   "id": "406d5457",
   "metadata": {},
   "source": [
    "### Standard Deviation"
   ]
  },
  {
   "cell_type": "code",
   "execution_count": 7,
   "id": "f9e301f1",
   "metadata": {},
   "outputs": [
    {
     "name": "stderr",
     "output_type": "stream",
     "text": [
      "C:\\Users\\madhu\\AppData\\Local\\Temp\\ipykernel_10112\\3390915376.py:1: FutureWarning: Dropping of nuisance columns in DataFrame reductions (with 'numeric_only=None') is deprecated; in a future version this will raise TypeError.  Select only valid columns before calling the reduction.\n",
      "  df.std()\n"
     ]
    },
    {
     "data": {
      "text/plain": [
       "Age              6.943498\n",
       "Education        1.617055\n",
       "Usage            1.084797\n",
       "Fitness          0.958869\n",
       "Income       16506.684226\n",
       "Miles           51.863605\n",
       "dtype: float64"
      ]
     },
     "execution_count": 7,
     "metadata": {},
     "output_type": "execute_result"
    }
   ],
   "source": [
    "df.std()"
   ]
  },
  {
   "cell_type": "markdown",
   "id": "e3831654",
   "metadata": {},
   "source": [
    "### Skewness"
   ]
  },
  {
   "cell_type": "code",
   "execution_count": 8,
   "id": "b54357d3",
   "metadata": {},
   "outputs": [
    {
     "name": "stderr",
     "output_type": "stream",
     "text": [
      "C:\\Users\\madhu\\AppData\\Local\\Temp\\ipykernel_10112\\1665899112.py:1: FutureWarning: Dropping of nuisance columns in DataFrame reductions (with 'numeric_only=None') is deprecated; in a future version this will raise TypeError.  Select only valid columns before calling the reduction.\n",
      "  df.skew()\n"
     ]
    },
    {
     "data": {
      "text/plain": [
       "Age          0.982161\n",
       "Education    0.622294\n",
       "Usage        0.739494\n",
       "Fitness      0.454800\n",
       "Income       1.291785\n",
       "Miles        1.724497\n",
       "dtype: float64"
      ]
     },
     "execution_count": 8,
     "metadata": {},
     "output_type": "execute_result"
    }
   ],
   "source": [
    "df.skew()"
   ]
  },
  {
   "cell_type": "markdown",
   "id": "bb33f519",
   "metadata": {},
   "source": [
    "### Null Values"
   ]
  },
  {
   "cell_type": "code",
   "execution_count": 21,
   "id": "d29a680a",
   "metadata": {},
   "outputs": [
    {
     "data": {
      "text/plain": [
       "Product          0\n",
       "Age              0\n",
       "Gender           0\n",
       "Education        0\n",
       "MaritalStatus    0\n",
       "Usage            0\n",
       "Fitness          0\n",
       "Income           0\n",
       "Miles            0\n",
       "dtype: int64"
      ]
     },
     "execution_count": 21,
     "metadata": {},
     "output_type": "execute_result"
    }
   ],
   "source": [
    "df.isnull().sum()"
   ]
  },
  {
   "cell_type": "markdown",
   "id": "579a004e",
   "metadata": {},
   "source": [
    "### Duplicates"
   ]
  },
  {
   "cell_type": "code",
   "execution_count": 126,
   "id": "00fa6c43",
   "metadata": {},
   "outputs": [
    {
     "data": {
      "text/plain": [
       "0"
      ]
     },
     "execution_count": 126,
     "metadata": {},
     "output_type": "execute_result"
    }
   ],
   "source": [
    "df.duplicated().sum()"
   ]
  },
  {
   "cell_type": "markdown",
   "id": "9ce93cab",
   "metadata": {},
   "source": [
    "# Descriptive Statistics"
   ]
  },
  {
   "cell_type": "markdown",
   "id": "4086c896",
   "metadata": {},
   "source": [
    "## Q.1)\tWhich product is most used?"
   ]
  },
  {
   "cell_type": "code",
   "execution_count": 24,
   "id": "309d7cc8",
   "metadata": {},
   "outputs": [
    {
     "data": {
      "image/png": "[encoded data removed]",
      "text/plain": [
       "<Figure size 640x480 with 1 Axes>"
      ]
     },
     "metadata": {},
     "output_type": "display_data"
    }
   ],
   "source": [
    "sns.countplot(data=df, x='Product')\n",
    "plt.show()"
   ]
  },
  {
   "cell_type": "markdown",
   "id": "c31f079b",
   "metadata": {},
   "source": [
    "#### Observations :\n",
    "Most used product is \"TM195\", followed by \"TM498\" and least used product is TM798"
   ]
  },
  {
   "cell_type": "markdown",
   "id": "31c1568a",
   "metadata": {},
   "source": [
    "## Q.2)\tWhat is the average age of customers, is it same as median?  Justify your answer by plotting distribution of age."
   ]
  },
  {
   "cell_type": "code",
   "execution_count": 27,
   "id": "6beea3bd",
   "metadata": {},
   "outputs": [
    {
     "name": "stdout",
     "output_type": "stream",
     "text": [
      "Average age of customers is : 28.788888888888888\n",
      "Median is : 26.0\n"
     ]
    }
   ],
   "source": [
    "print(f'Average age of customers is : {df[\"Age\"].mean()}')\n",
    "print(f'Median is : {df[\"Age\"].median()}')"
   ]
  },
  {
   "cell_type": "markdown",
   "id": "5ae28ffa",
   "metadata": {},
   "source": [
    "##### Let's plot distribution of age to see the difference between mean and median"
   ]
  },
  {
   "cell_type": "code",
   "execution_count": 29,
   "id": "845e43de",
   "metadata": {},
   "outputs": [
    {
     "data": {
      "text/plain": [
       "Text(0.5, 0, 'Age')"
      ]
     },
     "execution_count": 29,
     "metadata": {},
     "output_type": "execute_result"
    },
    {
     "data": {
      "image/png": "[encoded data removed]",
      "text/plain": [
       "<Figure size 640x480 with 1 Axes>"
      ]
     },
     "metadata": {},
     "output_type": "display_data"
    }
   ],
   "source": [
    "sns.kdeplot(data=df, x='Age', shade=True, color='orange')\n",
    "plt.vlines(df['Age'].mean(), ymin=0, ymax=0.09, linewidth=3.0, color='blue')\n",
    "plt.vlines(df['Age'].median(), ymin=0, ymax=0.09, linewidth=3.0, color='red')\n",
    "plt.xlabel(\"Age\")"
   ]
  },
  {
   "cell_type": "markdown",
   "id": "0f32abe0",
   "metadata": {},
   "source": [
    "#### Observations :\n",
    "1. Age distribution is not mormal, it is postively skewed\n",
    "2. Mean>Median"
   ]
  },
  {
   "cell_type": "markdown",
   "id": "37b4aa64",
   "metadata": {},
   "source": [
    "## Q.3)\tHow many males have income greater than average income? Also check whether income is positive or negatively skewed?"
   ]
  },
  {
   "cell_type": "code",
   "execution_count": 30,
   "id": "738a9212",
   "metadata": {},
   "outputs": [
    {
     "data": {
      "text/plain": [
       "53719.57777777778"
      ]
     },
     "execution_count": 30,
     "metadata": {},
     "output_type": "execute_result"
    }
   ],
   "source": [
    "df['Income'].mean()"
   ]
  },
  {
   "cell_type": "code",
   "execution_count": 81,
   "id": "40ae48de",
   "metadata": {},
   "outputs": [
    {
     "data": {
      "text/plain": [
       "44"
      ]
     },
     "execution_count": 81,
     "metadata": {},
     "output_type": "execute_result"
    }
   ],
   "source": [
    "df['Gender'][(df['Gender']=='Male') & (df['Income']>df['Income'].mean())].count()"
   ]
  },
  {
   "cell_type": "code",
   "execution_count": 60,
   "id": "1d983dd2",
   "metadata": {},
   "outputs": [
    {
     "data": {
      "text/plain": [
       "Text(0.5, 0, 'Income')"
      ]
     },
     "execution_count": 60,
     "metadata": {},
     "output_type": "execute_result"
    },
    {
     "data": {
      "image/png": "[encoded data removed]",
      "text/plain": [
       "<Figure size 640x480 with 1 Axes>"
      ]
     },
     "metadata": {},
     "output_type": "display_data"
    }
   ],
   "source": [
    "sns.kdeplot(data=df, x='Income', shade=True, color='blue')\n",
    "plt.vlines(df['Income'].mean(), ymin=0, ymax=0.000032, linewidth=3.0, color='blue')\n",
    "plt.vlines(df['Income'].median(), ymin=0, ymax=0.000032, linewidth=3.0, color='red')\n",
    "plt.xlabel(\"Income\")"
   ]
  },
  {
   "cell_type": "markdown",
   "id": "c2e62a33",
   "metadata": {},
   "source": [
    "#### Observations :\n",
    "1. 44 Males have income greater than average income\n",
    "2. Income distribution is not mormal, it is postively skewed\n",
    "3. Mean>Median"
   ]
  },
  {
   "cell_type": "markdown",
   "id": "73d9b99f",
   "metadata": {},
   "source": [
    "## Q.4)\tFind ratio of males and females"
   ]
  },
  {
   "cell_type": "code",
   "execution_count": 76,
   "id": "dd3ace4e",
   "metadata": {},
   "outputs": [
    {
     "data": {
      "image/png": "[encoded data removed]",
      "text/plain": [
       "<Figure size 640x480 with 1 Axes>"
      ]
     },
     "metadata": {},
     "output_type": "display_data"
    }
   ],
   "source": [
    "plt.pie(df['Gender'].value_counts(), labels=['Male', 'Female'], autopct='%.2f')\n",
    "plt.show()"
   ]
  },
  {
   "cell_type": "markdown",
   "id": "825d5dd5",
   "metadata": {},
   "source": [
    "#### Observations :\n",
    "1. Male to Female ratio is 58:42"
   ]
  },
  {
   "cell_type": "markdown",
   "id": "89033700",
   "metadata": {},
   "source": [
    "## Q.5)\tWhat percent of unmarried man have fitness level less than or equal to 3 ?"
   ]
  },
  {
   "cell_type": "code",
   "execution_count": 91,
   "id": "fc01e140",
   "metadata": {},
   "outputs": [
    {
     "data": {
      "text/plain": [
       "104"
      ]
     },
     "execution_count": 91,
     "metadata": {},
     "output_type": "execute_result"
    }
   ],
   "source": [
    "df['Gender'][df['Gender']=='Male'].count()"
   ]
  },
  {
   "cell_type": "code",
   "execution_count": 92,
   "id": "7cb57ffd",
   "metadata": {},
   "outputs": [
    {
     "data": {
      "text/plain": [
       "26"
      ]
     },
     "execution_count": 92,
     "metadata": {},
     "output_type": "execute_result"
    }
   ],
   "source": [
    "df['Gender'][(df['MaritalStatus']=='Single') & (df['Gender']=='Male') & (df['Fitness']<=3)].count()"
   ]
  },
  {
   "cell_type": "code",
   "execution_count": 93,
   "id": "c9a9f2d1",
   "metadata": {},
   "outputs": [
    {
     "data": {
      "text/plain": [
       "25.0"
      ]
     },
     "execution_count": 93,
     "metadata": {},
     "output_type": "execute_result"
    }
   ],
   "source": [
    "# Ratio of unmarried men having fitness level less than oe equal to 3\n",
    "100*(df['Gender'][(df['MaritalStatus']=='Single') & (df['Gender']=='Male') & (df['Fitness']<=3)].count())/df['Gender'][df['Gender']=='Male'].count()"
   ]
  },
  {
   "cell_type": "markdown",
   "id": "234c4fbb",
   "metadata": {},
   "source": [
    "#### Observations :\n",
    "1. Only 25% of unmarried men have fitness level less than or equal to 3, and that's good!\n",
    "2. this is because before marriage men focus much on their health"
   ]
  },
  {
   "cell_type": "markdown",
   "id": "9bdc340a",
   "metadata": {},
   "source": [
    "## Q.6)\tWhat percent of married women have fitness level greater than 3? And what may be the reason behind that?"
   ]
  },
  {
   "cell_type": "code",
   "execution_count": 94,
   "id": "4fca55af",
   "metadata": {},
   "outputs": [
    {
     "data": {
      "text/plain": [
       "76"
      ]
     },
     "execution_count": 94,
     "metadata": {},
     "output_type": "execute_result"
    }
   ],
   "source": [
    "df['Gender'][df['Gender']=='Female'].count()"
   ]
  },
  {
   "cell_type": "code",
   "execution_count": 95,
   "id": "47db9a0b",
   "metadata": {},
   "outputs": [
    {
     "data": {
      "text/plain": [
       "7"
      ]
     },
     "execution_count": 95,
     "metadata": {},
     "output_type": "execute_result"
    }
   ],
   "source": [
    "df['Gender'][(df['MaritalStatus']=='Partnered') & (df['Gender']=='Female') & (df['Fitness']>3)].count()"
   ]
  },
  {
   "cell_type": "code",
   "execution_count": 96,
   "id": "da7988da",
   "metadata": {},
   "outputs": [
    {
     "data": {
      "text/plain": [
       "9.210526315789474"
      ]
     },
     "execution_count": 96,
     "metadata": {},
     "output_type": "execute_result"
    }
   ],
   "source": [
    "# Ratio of married women having fitness level greater than 3\n",
    "100*(df['Gender'][(df['MaritalStatus']=='Partnered') & (df['Gender']=='Female') & (df['Fitness']>3)].count())/df['Gender'][df['Gender']=='Female'].count()"
   ]
  },
  {
   "cell_type": "markdown",
   "id": "83eea1c1",
   "metadata": {},
   "source": [
    "#### Observations :\n",
    "1. Only 9% of married women have fitness level greater than 3, this may be because of after marriage women have a lot of responsibilities so they don't focus much on their health"
   ]
  },
  {
   "cell_type": "markdown",
   "id": "97747795",
   "metadata": {},
   "source": [
    "## Q.7)\tHow many unmarried men have used treadmill less than 5 times in a week?"
   ]
  },
  {
   "cell_type": "code",
   "execution_count": 101,
   "id": "cf12bf6c",
   "metadata": {},
   "outputs": [
    {
     "data": {
      "text/plain": [
       "104"
      ]
     },
     "execution_count": 101,
     "metadata": {},
     "output_type": "execute_result"
    }
   ],
   "source": [
    "df['Gender'][df['Gender']=='Male'].count()"
   ]
  },
  {
   "cell_type": "code",
   "execution_count": 99,
   "id": "555ebafb",
   "metadata": {},
   "outputs": [
    {
     "data": {
      "text/plain": [
       "35"
      ]
     },
     "execution_count": 99,
     "metadata": {},
     "output_type": "execute_result"
    }
   ],
   "source": [
    "df['Gender'][(df['MaritalStatus']=='Single') & (df['Gender']=='Male') & (df['Usage']<5)].count()"
   ]
  },
  {
   "cell_type": "markdown",
   "id": "7e2a288f",
   "metadata": {},
   "source": [
    "#### Observations :\n",
    "1. only 35 out of 104 unmarried males are using trademill less than 5 times in a week, which is quite a good number"
   ]
  },
  {
   "cell_type": "markdown",
   "id": "93cfd678",
   "metadata": {},
   "source": [
    "## Q.8)\tGive your suggestion, if there were null values in feature “Miles” then using which central tendency we can impute it? Justify your answer."
   ]
  },
  {
   "cell_type": "markdown",
   "id": "fc3792e5",
   "metadata": {},
   "source": [
    "To answer this we will display a distribution plot for Miles and check if data is normally distributed or skewed.\n",
    "\n",
    "Since Miles is continuous variable, if it is normally distributed then we can impute null values by mean and if it is skewed then by using median"
   ]
  },
  {
   "cell_type": "code",
   "execution_count": 104,
   "id": "d87d61f3",
   "metadata": {},
   "outputs": [
    {
     "name": "stdout",
     "output_type": "stream",
     "text": [
      "Average miles of is : 103.19444444444444\n",
      "Median is : 94.0\n"
     ]
    }
   ],
   "source": [
    "print(f'Average miles of is : {df[\"Miles\"].mean()}')\n",
    "print(f'Median is : {df[\"Miles\"].median()}')"
   ]
  },
  {
   "cell_type": "code",
   "execution_count": 103,
   "id": "7d70055b",
   "metadata": {},
   "outputs": [
    {
     "data": {
      "text/plain": [
       "Text(0.5, 0, 'Miles')"
      ]
     },
     "execution_count": 103,
     "metadata": {},
     "output_type": "execute_result"
    },
    {
     "data": {
      "image/png": "[encoded data removed]",
      "text/plain": [
       "<Figure size 640x480 with 1 Axes>"
      ]
     },
     "metadata": {},
     "output_type": "display_data"
    }
   ],
   "source": [
    "sns.kdeplot(data=df, x='Miles', shade=True, color='blue')\n",
    "plt.vlines(df['Miles'].mean(), ymin=0, ymax=0.01, linewidth=1.0, color='blue')\n",
    "plt.vlines(df['Miles'].median(), ymin=0, ymax=0.01, linewidth=1.0, color='red')\n",
    "plt.xlabel(\"Miles\")"
   ]
  },
  {
   "cell_type": "markdown",
   "id": "572dbad5",
   "metadata": {},
   "source": [
    "#### Observations :\n",
    "1. Miles distribution is not mormal, it is postively skewed\n",
    "2. Mean>Median\n",
    "**Hence, we will impute null values if present by using median.**"
   ]
  },
  {
   "cell_type": "markdown",
   "id": "13723f66",
   "metadata": {},
   "source": [
    "## Q.9)\tWhich product is least used by unmarried customers?"
   ]
  },
  {
   "cell_type": "code",
   "execution_count": 105,
   "id": "e5c5e660",
   "metadata": {},
   "outputs": [
    {
     "data": {
      "text/html": [
       "<div>\n",
       "<style scoped>\n",
       "    .dataframe tbody tr th:only-of-type {\n",
       "        vertical-align: middle;\n",
       "    }\n",
       "\n",
       "    .dataframe tbody tr th {\n",
       "        vertical-align: top;\n",
       "    }\n",
       "\n",
       "    .dataframe thead th {\n",
       "        text-align: right;\n",
       "    }\n",
       "</style>\n",
       "<table border=\"1\" class=\"dataframe\">\n",
       "  <thead>\n",
       "    <tr style=\"text-align: right;\">\n",
       "      <th></th>\n",
       "      <th>Product</th>\n",
       "      <th>Age</th>\n",
       "      <th>Gender</th>\n",
       "      <th>Education</th>\n",
       "      <th>MaritalStatus</th>\n",
       "      <th>Usage</th>\n",
       "      <th>Fitness</th>\n",
       "      <th>Income</th>\n",
       "      <th>Miles</th>\n",
       "    </tr>\n",
       "  </thead>\n",
       "  <tbody>\n",
       "    <tr>\n",
       "      <th>0</th>\n",
       "      <td>TM195</td>\n",
       "      <td>18</td>\n",
       "      <td>Male</td>\n",
       "      <td>14</td>\n",
       "      <td>Single</td>\n",
       "      <td>3</td>\n",
       "      <td>4</td>\n",
       "      <td>29562</td>\n",
       "      <td>112</td>\n",
       "    </tr>\n",
       "    <tr>\n",
       "      <th>1</th>\n",
       "      <td>TM195</td>\n",
       "      <td>19</td>\n",
       "      <td>Male</td>\n",
       "      <td>15</td>\n",
       "      <td>Single</td>\n",
       "      <td>2</td>\n",
       "      <td>3</td>\n",
       "      <td>31836</td>\n",
       "      <td>75</td>\n",
       "    </tr>\n",
       "    <tr>\n",
       "      <th>3</th>\n",
       "      <td>TM195</td>\n",
       "      <td>19</td>\n",
       "      <td>Male</td>\n",
       "      <td>12</td>\n",
       "      <td>Single</td>\n",
       "      <td>3</td>\n",
       "      <td>3</td>\n",
       "      <td>32973</td>\n",
       "      <td>85</td>\n",
       "    </tr>\n",
       "    <tr>\n",
       "      <th>7</th>\n",
       "      <td>TM195</td>\n",
       "      <td>21</td>\n",
       "      <td>Male</td>\n",
       "      <td>13</td>\n",
       "      <td>Single</td>\n",
       "      <td>3</td>\n",
       "      <td>3</td>\n",
       "      <td>32973</td>\n",
       "      <td>85</td>\n",
       "    </tr>\n",
       "    <tr>\n",
       "      <th>8</th>\n",
       "      <td>TM195</td>\n",
       "      <td>21</td>\n",
       "      <td>Male</td>\n",
       "      <td>15</td>\n",
       "      <td>Single</td>\n",
       "      <td>5</td>\n",
       "      <td>4</td>\n",
       "      <td>35247</td>\n",
       "      <td>141</td>\n",
       "    </tr>\n",
       "    <tr>\n",
       "      <th>...</th>\n",
       "      <td>...</td>\n",
       "      <td>...</td>\n",
       "      <td>...</td>\n",
       "      <td>...</td>\n",
       "      <td>...</td>\n",
       "      <td>...</td>\n",
       "      <td>...</td>\n",
       "      <td>...</td>\n",
       "      <td>...</td>\n",
       "    </tr>\n",
       "    <tr>\n",
       "      <th>165</th>\n",
       "      <td>TM798</td>\n",
       "      <td>29</td>\n",
       "      <td>Male</td>\n",
       "      <td>18</td>\n",
       "      <td>Single</td>\n",
       "      <td>5</td>\n",
       "      <td>5</td>\n",
       "      <td>52290</td>\n",
       "      <td>180</td>\n",
       "    </tr>\n",
       "    <tr>\n",
       "      <th>172</th>\n",
       "      <td>TM798</td>\n",
       "      <td>34</td>\n",
       "      <td>Male</td>\n",
       "      <td>16</td>\n",
       "      <td>Single</td>\n",
       "      <td>5</td>\n",
       "      <td>5</td>\n",
       "      <td>92131</td>\n",
       "      <td>150</td>\n",
       "    </tr>\n",
       "    <tr>\n",
       "      <th>175</th>\n",
       "      <td>TM798</td>\n",
       "      <td>40</td>\n",
       "      <td>Male</td>\n",
       "      <td>21</td>\n",
       "      <td>Single</td>\n",
       "      <td>6</td>\n",
       "      <td>5</td>\n",
       "      <td>83416</td>\n",
       "      <td>200</td>\n",
       "    </tr>\n",
       "    <tr>\n",
       "      <th>176</th>\n",
       "      <td>TM798</td>\n",
       "      <td>42</td>\n",
       "      <td>Male</td>\n",
       "      <td>18</td>\n",
       "      <td>Single</td>\n",
       "      <td>5</td>\n",
       "      <td>4</td>\n",
       "      <td>89641</td>\n",
       "      <td>200</td>\n",
       "    </tr>\n",
       "    <tr>\n",
       "      <th>177</th>\n",
       "      <td>TM798</td>\n",
       "      <td>45</td>\n",
       "      <td>Male</td>\n",
       "      <td>16</td>\n",
       "      <td>Single</td>\n",
       "      <td>5</td>\n",
       "      <td>5</td>\n",
       "      <td>90886</td>\n",
       "      <td>160</td>\n",
       "    </tr>\n",
       "  </tbody>\n",
       "</table>\n",
       "<p>73 rows × 9 columns</p>\n",
       "</div>"
      ],
      "text/plain": [
       "    Product  Age Gender  Education MaritalStatus  Usage  Fitness  Income  \\\n",
       "0     TM195   18   Male         14        Single      3        4   29562   \n",
       "1     TM195   19   Male         15        Single      2        3   31836   \n",
       "3     TM195   19   Male         12        Single      3        3   32973   \n",
       "7     TM195   21   Male         13        Single      3        3   32973   \n",
       "8     TM195   21   Male         15        Single      5        4   35247   \n",
       "..      ...  ...    ...        ...           ...    ...      ...     ...   \n",
       "165   TM798   29   Male         18        Single      5        5   52290   \n",
       "172   TM798   34   Male         16        Single      5        5   92131   \n",
       "175   TM798   40   Male         21        Single      6        5   83416   \n",
       "176   TM798   42   Male         18        Single      5        4   89641   \n",
       "177   TM798   45   Male         16        Single      5        5   90886   \n",
       "\n",
       "     Miles  \n",
       "0      112  \n",
       "1       75  \n",
       "3       85  \n",
       "7       85  \n",
       "8      141  \n",
       "..     ...  \n",
       "165    180  \n",
       "172    150  \n",
       "175    200  \n",
       "176    200  \n",
       "177    160  \n",
       "\n",
       "[73 rows x 9 columns]"
      ]
     },
     "execution_count": 105,
     "metadata": {},
     "output_type": "execute_result"
    }
   ],
   "source": [
    "df[df['MaritalStatus']=='Single']"
   ]
  },
  {
   "cell_type": "code",
   "execution_count": 106,
   "id": "688c8cc0",
   "metadata": {},
   "outputs": [
    {
     "data": {
      "image/png": "[encoded data removed]",
      "text/plain": [
       "<Figure size 640x480 with 1 Axes>"
      ]
     },
     "metadata": {},
     "output_type": "display_data"
    }
   ],
   "source": [
    "sns.countplot(data=df[df['MaritalStatus']=='Single'], x='Product')\n",
    "plt.show()"
   ]
  },
  {
   "cell_type": "markdown",
   "id": "42ade2c8",
   "metadata": {},
   "source": [
    "#### Observations :\n",
    "1. TM798 is least used by unmarried customers"
   ]
  },
  {
   "cell_type": "markdown",
   "id": "efbd2d7a",
   "metadata": {},
   "source": [
    "## Q.10)\tIf there were null values in feature “Education” using which measure of center can we impute it?"
   ]
  },
  {
   "cell_type": "markdown",
   "id": "59264c12",
   "metadata": {},
   "source": [
    "To answer this we will display a distribution plot for Education and check if which value occurs most frequently.\n",
    "\n",
    "Since Education is ordinal categorical variable, we will impute null values if available by mode that is most frequent value."
   ]
  },
  {
   "cell_type": "code",
   "execution_count": 110,
   "id": "fca7d3b8",
   "metadata": {},
   "outputs": [
    {
     "data": {
      "text/plain": [
       "16"
      ]
     },
     "execution_count": 110,
     "metadata": {},
     "output_type": "execute_result"
    }
   ],
   "source": [
    "df['Education'].mode()[0]"
   ]
  },
  {
   "cell_type": "code",
   "execution_count": 111,
   "id": "294fadd3",
   "metadata": {},
   "outputs": [
    {
     "data": {
      "image/png": "[encoded data removed]",
      "text/plain": [
       "<Figure size 640x480 with 1 Axes>"
      ]
     },
     "metadata": {},
     "output_type": "display_data"
    }
   ],
   "source": [
    "sns.countplot(data=df, x='Education')\n",
    "plt.show()"
   ]
  },
  {
   "cell_type": "markdown",
   "id": "32426158",
   "metadata": {},
   "source": [
    "#### Observations :\n",
    "1. Since 16 is the most frequent value in Education, so we will impute null values if present in Education by 16"
   ]
  },
  {
   "cell_type": "markdown",
   "id": "169806f9",
   "metadata": {},
   "source": [
    "## Q.11)\tFitness is most related to which feature?"
   ]
  },
  {
   "cell_type": "markdown",
   "id": "2a2f18cd",
   "metadata": {},
   "source": [
    "To check the correlation between features we use heatmap"
   ]
  },
  {
   "cell_type": "code",
   "execution_count": 123,
   "id": "463084fa",
   "metadata": {},
   "outputs": [
    {
     "data": {
      "text/plain": [
       "<AxesSubplot:>"
      ]
     },
     "execution_count": 123,
     "metadata": {},
     "output_type": "execute_result"
    },
    {
     "data": {
      "image/png": "[encoded data removed]",
      "text/plain": [
       "<Figure size 640x480 with 2 Axes>"
      ]
     },
     "metadata": {},
     "output_type": "display_data"
    }
   ],
   "source": [
    "sns.heatmap(df.corr(), annot=True)"
   ]
  },
  {
   "cell_type": "markdown",
   "id": "299f261e",
   "metadata": {},
   "source": [
    "#### Observations :\n",
    "1. Fitness is most related to miles, and looks obvious, as more the number of miles covered more fitness level will be."
   ]
  },
  {
   "cell_type": "markdown",
   "id": "d74bf89b",
   "metadata": {},
   "source": [
    "## Q.12)\tFind gender-wise average age"
   ]
  },
  {
   "cell_type": "markdown",
   "id": "d4be2582",
   "metadata": {},
   "source": [
    "We will do this by using Groupby function"
   ]
  },
  {
   "cell_type": "code",
   "execution_count": 119,
   "id": "29060429",
   "metadata": {},
   "outputs": [
    {
     "data": {
      "text/plain": [
       "Gender\n",
       "Female    28.565789\n",
       "Male      28.951923\n",
       "Name: Age, dtype: float64"
      ]
     },
     "execution_count": 119,
     "metadata": {},
     "output_type": "execute_result"
    }
   ],
   "source": [
    "df.groupby(by='Gender').mean()['Age']"
   ]
  },
  {
   "cell_type": "markdown",
   "id": "58ce8357",
   "metadata": {},
   "source": [
    "#### Observations :\n",
    "Average age of Males and females are approximately equal"
   ]
  },
  {
   "cell_type": "markdown",
   "id": "a17f30f3",
   "metadata": {},
   "source": [
    "## Q.13)\tDoes Education have high correlation with Income? If yes how can you practically relate it?"
   ]
  },
  {
   "cell_type": "markdown",
   "id": "ce28f600",
   "metadata": {},
   "source": [
    "To check the correlation between features we use heatmap"
   ]
  },
  {
   "cell_type": "code",
   "execution_count": 124,
   "id": "34f79d03",
   "metadata": {},
   "outputs": [
    {
     "data": {
      "text/plain": [
       "<AxesSubplot:>"
      ]
     },
     "execution_count": 124,
     "metadata": {},
     "output_type": "execute_result"
    },
    {
     "data": {
      "image/png": "[encoded data removed]",
      "text/plain": [
       "<Figure size 640x480 with 2 Axes>"
      ]
     },
     "metadata": {},
     "output_type": "display_data"
    }
   ],
   "source": [
    "sns.heatmap(df.corr(), annot=True)"
   ]
  },
  {
   "cell_type": "markdown",
   "id": "c4e6eb0d",
   "metadata": {},
   "source": [
    "#### Observations :\n",
    "1. Yes, Education have high positive correlation with Income\n",
    "2. This looks very obvious as, more the educartion level more income a person will have"
   ]
  },
  {
   "cell_type": "markdown",
   "id": "d61e274f",
   "metadata": {},
   "source": [
    "## Q.14)\tIs there any negatively skewed feature?"
   ]
  },
  {
   "cell_type": "code",
   "execution_count": 125,
   "id": "ae5246aa",
   "metadata": {},
   "outputs": [
    {
     "name": "stderr",
     "output_type": "stream",
     "text": [
      "C:\\Users\\madhu\\AppData\\Local\\Temp\\ipykernel_10112\\1665899112.py:1: FutureWarning: Dropping of nuisance columns in DataFrame reductions (with 'numeric_only=None') is deprecated; in a future version this will raise TypeError.  Select only valid columns before calling the reduction.\n",
      "  df.skew()\n"
     ]
    },
    {
     "data": {
      "text/plain": [
       "Age          0.982161\n",
       "Education    0.622294\n",
       "Usage        0.739494\n",
       "Fitness      0.454800\n",
       "Income       1.291785\n",
       "Miles        1.724497\n",
       "dtype: float64"
      ]
     },
     "execution_count": 125,
     "metadata": {},
     "output_type": "execute_result"
    }
   ],
   "source": [
    "df.skew()"
   ]
  },
  {
   "cell_type": "markdown",
   "id": "e74b911a",
   "metadata": {},
   "source": [
    "#### Observations :\n",
    "1. No feature is negatively skewed\n",
    "2. Income, Miles and Age have positive skewness and rest of the features are approximately normally distributed"
   ]
  },
  {
   "cell_type": "markdown",
   "id": "42cf1679",
   "metadata": {},
   "source": [
    "**END OF DOCUMENT**"
   ]
  }
 ],
 "metadata": {
  "kernelspec": {
   "display_name": "Python 3 (ipykernel)",
   "language": "python",
   "name": "python3"
  },
  "language_info": {
   "codemirror_mode": {
    "name": "ipython",
    "version": 3
   },
   "file_extension": ".py",
   "mimetype": "text/x-python",
   "name": "python",
   "nbconvert_exporter": "python",
   "pygments_lexer": "ipython3",
   "version": "3.9.13"
  }
 },
 "nbformat": 4,
 "nbformat_minor": 5
}
